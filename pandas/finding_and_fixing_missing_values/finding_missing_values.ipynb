{
 "cells": [
  {
   "cell_type": "code",
   "execution_count": 1,
   "id": "7f03488e",
   "metadata": {},
   "outputs": [],
   "source": [
    "import numpy as np\n",
    "\n",
    "import pandas as pd"
   ]
  },
  {
   "cell_type": "code",
   "execution_count": 2,
   "id": "2e7b9ae8",
   "metadata": {},
   "outputs": [],
   "source": [
    "taxi_trips = pd.read_csv(r\"yellow_tripdata_2019-01.csv\")"
   ]
  },
  {
   "cell_type": "code",
   "execution_count": 3,
   "id": "e84ebbc3",
   "metadata": {},
   "outputs": [
    {
     "data": {
      "text/html": [
       "<div>\n",
       "<style scoped>\n",
       "    .dataframe tbody tr th:only-of-type {\n",
       "        vertical-align: middle;\n",
       "    }\n",
       "\n",
       "    .dataframe tbody tr th {\n",
       "        vertical-align: top;\n",
       "    }\n",
       "\n",
       "    .dataframe thead th {\n",
       "        text-align: right;\n",
       "    }\n",
       "</style>\n",
       "<table border=\"1\" class=\"dataframe\">\n",
       "  <thead>\n",
       "    <tr style=\"text-align: right;\">\n",
       "      <th></th>\n",
       "      <th>tpep_pickup_datetime</th>\n",
       "      <th>passenger_count</th>\n",
       "      <th>trip_distance</th>\n",
       "      <th>PULocationID</th>\n",
       "      <th>payment_type</th>\n",
       "      <th>total_amount</th>\n",
       "    </tr>\n",
       "  </thead>\n",
       "  <tbody>\n",
       "    <tr>\n",
       "      <th>0</th>\n",
       "      <td>2019-01-01 00:46:40</td>\n",
       "      <td>1.0</td>\n",
       "      <td>1.50</td>\n",
       "      <td>151</td>\n",
       "      <td>1</td>\n",
       "      <td>9.95</td>\n",
       "    </tr>\n",
       "    <tr>\n",
       "      <th>1</th>\n",
       "      <td>2019-01-01 00:59:47</td>\n",
       "      <td>1.0</td>\n",
       "      <td>2.60</td>\n",
       "      <td>239</td>\n",
       "      <td>1</td>\n",
       "      <td>16.30</td>\n",
       "    </tr>\n",
       "    <tr>\n",
       "      <th>2</th>\n",
       "      <td>2018-12-21 13:48:30</td>\n",
       "      <td>3.0</td>\n",
       "      <td>0.00</td>\n",
       "      <td>236</td>\n",
       "      <td>1</td>\n",
       "      <td>5.80</td>\n",
       "    </tr>\n",
       "    <tr>\n",
       "      <th>3</th>\n",
       "      <td>2018-11-28 15:52:25</td>\n",
       "      <td>5.0</td>\n",
       "      <td>0.00</td>\n",
       "      <td>193</td>\n",
       "      <td>2</td>\n",
       "      <td>7.55</td>\n",
       "    </tr>\n",
       "    <tr>\n",
       "      <th>4</th>\n",
       "      <td>2018-11-28 15:56:57</td>\n",
       "      <td>5.0</td>\n",
       "      <td>0.00</td>\n",
       "      <td>193</td>\n",
       "      <td>2</td>\n",
       "      <td>55.55</td>\n",
       "    </tr>\n",
       "    <tr>\n",
       "      <th>...</th>\n",
       "      <td>...</td>\n",
       "      <td>...</td>\n",
       "      <td>...</td>\n",
       "      <td>...</td>\n",
       "      <td>...</td>\n",
       "      <td>...</td>\n",
       "    </tr>\n",
       "    <tr>\n",
       "      <th>7696612</th>\n",
       "      <td>2019-01-31 23:37:20</td>\n",
       "      <td>NaN</td>\n",
       "      <td>10.24</td>\n",
       "      <td>142</td>\n",
       "      <td>0</td>\n",
       "      <td>0.00</td>\n",
       "    </tr>\n",
       "    <tr>\n",
       "      <th>7696613</th>\n",
       "      <td>2019-01-31 23:28:00</td>\n",
       "      <td>NaN</td>\n",
       "      <td>12.43</td>\n",
       "      <td>48</td>\n",
       "      <td>0</td>\n",
       "      <td>54.60</td>\n",
       "    </tr>\n",
       "    <tr>\n",
       "      <th>7696614</th>\n",
       "      <td>2019-01-31 23:11:00</td>\n",
       "      <td>NaN</td>\n",
       "      <td>9.14</td>\n",
       "      <td>159</td>\n",
       "      <td>0</td>\n",
       "      <td>54.60</td>\n",
       "    </tr>\n",
       "    <tr>\n",
       "      <th>7696615</th>\n",
       "      <td>2019-01-31 23:03:00</td>\n",
       "      <td>NaN</td>\n",
       "      <td>0.00</td>\n",
       "      <td>265</td>\n",
       "      <td>0</td>\n",
       "      <td>0.00</td>\n",
       "    </tr>\n",
       "    <tr>\n",
       "      <th>7696616</th>\n",
       "      <td>2019-01-31 23:41:03</td>\n",
       "      <td>NaN</td>\n",
       "      <td>12.30</td>\n",
       "      <td>237</td>\n",
       "      <td>0</td>\n",
       "      <td>0.00</td>\n",
       "    </tr>\n",
       "  </tbody>\n",
       "</table>\n",
       "<p>7696617 rows × 6 columns</p>\n",
       "</div>"
      ],
      "text/plain": [
       "        tpep_pickup_datetime  passenger_count  trip_distance  PULocationID   \n",
       "0        2019-01-01 00:46:40              1.0           1.50           151  \\\n",
       "1        2019-01-01 00:59:47              1.0           2.60           239   \n",
       "2        2018-12-21 13:48:30              3.0           0.00           236   \n",
       "3        2018-11-28 15:52:25              5.0           0.00           193   \n",
       "4        2018-11-28 15:56:57              5.0           0.00           193   \n",
       "...                      ...              ...            ...           ...   \n",
       "7696612  2019-01-31 23:37:20              NaN          10.24           142   \n",
       "7696613  2019-01-31 23:28:00              NaN          12.43            48   \n",
       "7696614  2019-01-31 23:11:00              NaN           9.14           159   \n",
       "7696615  2019-01-31 23:03:00              NaN           0.00           265   \n",
       "7696616  2019-01-31 23:41:03              NaN          12.30           237   \n",
       "\n",
       "         payment_type  total_amount  \n",
       "0                   1          9.95  \n",
       "1                   1         16.30  \n",
       "2                   1          5.80  \n",
       "3                   2          7.55  \n",
       "4                   2         55.55  \n",
       "...               ...           ...  \n",
       "7696612             0          0.00  \n",
       "7696613             0         54.60  \n",
       "7696614             0         54.60  \n",
       "7696615             0          0.00  \n",
       "7696616             0          0.00  \n",
       "\n",
       "[7696617 rows x 6 columns]"
      ]
     },
     "execution_count": 3,
     "metadata": {},
     "output_type": "execute_result"
    }
   ],
   "source": [
    "# taxi_trips.head(10)\n",
    "\n",
    "taxi_trips"
   ]
  },
  {
   "cell_type": "markdown",
   "id": "c6c6e451",
   "metadata": {},
   "source": [
    "## `1st way`\n",
    "\n",
    "### Using built-in methods to find / check / view  missing values (i.e NaN  or  None)"
   ]
  },
  {
   "cell_type": "markdown",
   "id": "c0d988dd",
   "metadata": {},
   "source": [
    "###  `.isna().sum()`\n",
    "\n",
    "####  It is used to find missing values (i.e NaN or None)"
   ]
  },
  {
   "cell_type": "code",
   "execution_count": 4,
   "id": "826b9434",
   "metadata": {},
   "outputs": [
    {
     "data": {
      "text/plain": [
       "tpep_pickup_datetime        0\n",
       "passenger_count         28672\n",
       "trip_distance               0\n",
       "PULocationID                0\n",
       "payment_type                0\n",
       "total_amount                0\n",
       "dtype: int64"
      ]
     },
     "execution_count": 4,
     "metadata": {},
     "output_type": "execute_result"
    }
   ],
   "source": [
    "taxi_trips.isna().sum()"
   ]
  },
  {
   "cell_type": "markdown",
   "id": "3f3b5dbe",
   "metadata": {},
   "source": [
    "###  `.isnull().sum()`"
   ]
  },
  {
   "cell_type": "markdown",
   "id": "6aa0f921",
   "metadata": {},
   "source": [
    "#### Like .isna(),  .isnull()  is also  used to find missing values (i.e NaN or None)"
   ]
  },
  {
   "cell_type": "code",
   "execution_count": 5,
   "id": "07344673",
   "metadata": {},
   "outputs": [
    {
     "data": {
      "text/plain": [
       "tpep_pickup_datetime        0\n",
       "passenger_count         28672\n",
       "trip_distance               0\n",
       "PULocationID                0\n",
       "payment_type                0\n",
       "total_amount                0\n",
       "dtype: int64"
      ]
     },
     "execution_count": 5,
     "metadata": {},
     "output_type": "execute_result"
    }
   ],
   "source": [
    "taxi_trips.isnull().sum()"
   ]
  },
  {
   "cell_type": "markdown",
   "id": "c4b38bfa",
   "metadata": {},
   "source": [
    "## `2nd way`\n",
    "\n",
    "### For checking/viewing  unique values for each column  using value_counts()"
   ]
  },
  {
   "cell_type": "markdown",
   "id": "373f80b4",
   "metadata": {},
   "source": [
    "###  `value_counts()`"
   ]
  },
  {
   "cell_type": "code",
   "execution_count": 6,
   "id": "9e263a04",
   "metadata": {},
   "outputs": [
    {
     "data": {
      "text/plain": [
       "passenger_count\n",
       "1.0    5456515\n",
       "2.0    1113894\n",
       "5.0     323842\n",
       "3.0     314692\n",
       "6.0     200811\n",
       "4.0     140753\n",
       "0.0     117381\n",
       "8.0         29\n",
       "7.0         19\n",
       "9.0          9\n",
       "Name: count, dtype: int64"
      ]
     },
     "execution_count": 6,
     "metadata": {},
     "output_type": "execute_result"
    }
   ],
   "source": [
    "# looking unique value counts for passenger_count column\n",
    "\n",
    "taxi_trips['passenger_count'].value_counts()"
   ]
  },
  {
   "cell_type": "code",
   "execution_count": 7,
   "id": "d9bb2a9c",
   "metadata": {},
   "outputs": [
    {
     "data": {
      "text/plain": [
       "payment_type\n",
       "1    5486263\n",
       "2    2137336\n",
       "3      33181\n",
       "0      28672\n",
       "4      11165\n",
       "Name: count, dtype: int64"
      ]
     },
     "execution_count": 7,
     "metadata": {},
     "output_type": "execute_result"
    }
   ],
   "source": [
    "# looking unique value counts for payment_type column\n",
    "\n",
    "taxi_trips['payment_type'].value_counts()"
   ]
  },
  {
   "cell_type": "code",
   "execution_count": 8,
   "id": "83815bd5",
   "metadata": {},
   "outputs": [
    {
     "data": {
      "text/plain": [
       "PULocationID\n",
       "237    332785\n",
       "236    323295\n",
       "161    312855\n",
       "162    277477\n",
       "230    264134\n",
       "        ...  \n",
       "204         3\n",
       "176         2\n",
       "199         2\n",
       "84          1\n",
       "104         1\n",
       "Name: count, Length: 263, dtype: int64"
      ]
     },
     "execution_count": 8,
     "metadata": {},
     "output_type": "execute_result"
    }
   ],
   "source": [
    "# looking unique value counts for PULocationID column\n",
    "\n",
    "taxi_trips['PULocationID'].value_counts()"
   ]
  },
  {
   "cell_type": "markdown",
   "id": "84f3dc87",
   "metadata": {},
   "source": [
    "## `3rd` way\n",
    "\n",
    "### whenever value_counts() is unable to find/show tricky `NaN` or `nan` values,\n",
    "### u better use, `.unique()` function,\n",
    "### but u cannot check using `.unique()` method in the numeric values column, because all unique values won't be shown"
   ]
  },
  {
   "cell_type": "code",
   "execution_count": 9,
   "id": "5e7c72a3",
   "metadata": {},
   "outputs": [
    {
     "name": "stdout",
     "output_type": "stream",
     "text": [
      "[ 1.  3.  5.  2.  4.  0.  6.  8.  7.  9. nan]\n"
     ]
    }
   ],
   "source": [
    "passenger_unique_values = taxi_trips['passenger_count'].unique()\n",
    "\n",
    "print(passenger_unique_values)"
   ]
  },
  {
   "cell_type": "code",
   "execution_count": 10,
   "id": "596865a0",
   "metadata": {},
   "outputs": [
    {
     "name": "stdout",
     "output_type": "stream",
     "text": [
      "[1 2 4 3 0]\n"
     ]
    }
   ],
   "source": [
    "payment_unique_values = taxi_trips['payment_type'].unique()\n",
    "\n",
    "print(payment_unique_values)"
   ]
  },
  {
   "cell_type": "code",
   "execution_count": 11,
   "id": "a0ebdc88",
   "metadata": {},
   "outputs": [
    {
     "name": "stdout",
     "output_type": "stream",
     "text": [
      "[151 239 236 193 163 229 141 246 238 224 170 107  41 116 113 161 138 144\n",
      " 231 237 263 132 264 142 249 137  90 162 140  68  88  74  79  75 233 148\n",
      "  48 143   4 164 232  45  43 186 158  50 114  42  14  11 181 211  13 261\n",
      "  97 234 125 145 262 226  24 166  80 189  33 100 126 159 244 243 209  87\n",
      "  25 260 223 196 152 230   7  66 228 235 265 134  65 129  82 195 255 179\n",
      " 169  89  37  17 225  12  52 112 256  61 257 215  70 217 177  49 168  76\n",
      " 133 198  40 247 254 216  77 250 119 106 208  60 146 191  54 205  36 153\n",
      "  34  78 130 241  69 124 190 203  19 213  10 218 174 248 222 157 160 188\n",
      "  93 123  39  63  21  94 127  51  20  18 122  35  56 259 202  71  92 197\n",
      " 136  62  83   8 120 220  95 173 165  81 227 128  67 183  16 147 201 167\n",
      " 210  28 212  85  22  91  64  38  72  47  29 149 150 178 101   1 155 258\n",
      "  98  32 221 171  23 242 192 187 182 180 185 121  96  26  57 131 109 108\n",
      " 200 194  53  59 135 139 219   6 117 102   3  15  44  55  73 154 207  86\n",
      "  46 251 252 111 240   9 253 115  58   5 175  31 184 245  30 118 156   2\n",
      " 206 214 172 105  84 204  27  99 176 104 199]\n"
     ]
    }
   ],
   "source": [
    "pulocationid_unique_values = taxi_trips['PULocationID'].unique()\n",
    "\n",
    "print(pulocationid_unique_values)"
   ]
  },
  {
   "cell_type": "markdown",
   "id": "3335be90",
   "metadata": {},
   "source": [
    "### NOTE: It is pointless to use, `.unique()` function in numeric column, becuase all unique elements won't be shown\n",
    "\n",
    "### i.e why we didn't do following:\n",
    "\n",
    "### total_amount_unique_values = taxi_trips['total_amount'].unique()"
   ]
  },
  {
   "cell_type": "markdown",
   "id": "57ac3881",
   "metadata": {},
   "source": [
    "## `4th way`\n",
    "\n",
    "### Replace any tricky `Na` or `nan` with NaN,\n",
    "### using `replace()` function"
   ]
  },
  {
   "cell_type": "code",
   "execution_count": 12,
   "id": "835cb9de",
   "metadata": {},
   "outputs": [],
   "source": [
    "taxi_trips['passenger_count'] = taxi_trips['passenger_count'].replace('Na', np.nan)\n",
    "taxi_trips['passenger_count'] = taxi_trips['passenger_count'].replace('nan', np.nan)\n",
    "\n",
    "# taxi_trips['passenger_count'].isna().sum()"
   ]
  },
  {
   "cell_type": "code",
   "execution_count": 13,
   "id": "39a69363",
   "metadata": {},
   "outputs": [],
   "source": [
    "taxi_trips['payment_type'] = taxi_trips['payment_type'].replace('Na', np.nan)\n",
    "taxi_trips['payment_type'] = taxi_trips['payment_type'].replace('nan', np.nan)"
   ]
  },
  {
   "cell_type": "code",
   "execution_count": 14,
   "id": "19e779f3",
   "metadata": {},
   "outputs": [],
   "source": [
    "taxi_trips['total_amount'] = taxi_trips['total_amount'].replace('Na', np.nan)\n",
    "taxi_trips['total_amount'] = taxi_trips['total_amount'].replace('nan', np.nan)"
   ]
  },
  {
   "cell_type": "markdown",
   "id": "faea1f8c",
   "metadata": {},
   "source": [
    "### again, recheck if tricky `Na` or `nan` values found ??"
   ]
  },
  {
   "cell_type": "code",
   "execution_count": 15,
   "id": "2750da23",
   "metadata": {},
   "outputs": [
    {
     "data": {
      "text/plain": [
       "tpep_pickup_datetime        0\n",
       "passenger_count         28672\n",
       "trip_distance               0\n",
       "PULocationID                0\n",
       "payment_type                0\n",
       "total_amount                0\n",
       "dtype: int64"
      ]
     },
     "execution_count": 15,
     "metadata": {},
     "output_type": "execute_result"
    }
   ],
   "source": [
    "taxi_trips.isna().sum()"
   ]
  },
  {
   "cell_type": "markdown",
   "id": "88ab9e19",
   "metadata": {},
   "source": [
    "## `5th way`"
   ]
  },
  {
   "cell_type": "markdown",
   "id": "7ac4ea0c",
   "metadata": {},
   "source": [
    "### `dtypes`\n",
    "\n",
    "### checking data type of column using `dtypes` attribute"
   ]
  },
  {
   "cell_type": "markdown",
   "id": "aaafe1fd",
   "metadata": {},
   "source": [
    "####  NOTE: At initial, u might know, the data type of each column (like int64, float64),\n",
    "#### NOTE: data type of datetime can also be shown object type\n",
    "\n",
    "### but, sometimes `int64` or `float64` looking column is showing `object` data type,\n",
    "### at this point, u can guess, this type of column may have tricky missing values like ('Na' or 'nan')"
   ]
  },
  {
   "cell_type": "code",
   "execution_count": 21,
   "id": "3f76a273",
   "metadata": {},
   "outputs": [
    {
     "data": {
      "text/plain": [
       "tpep_pickup_datetime    datetime64[ns]\n",
       "passenger_count                float64\n",
       "trip_distance                  float64\n",
       "PULocationID                     int64\n",
       "payment_type                     int64\n",
       "total_amount                   float64\n",
       "dtype: object"
      ]
     },
     "execution_count": 21,
     "metadata": {},
     "output_type": "execute_result"
    }
   ],
   "source": [
    "taxi_trips.dtypes"
   ]
  },
  {
   "cell_type": "markdown",
   "id": "f43a1c43",
   "metadata": {},
   "source": [
    "### while checking with dtypes attribute,\n",
    "### if u find something fishing/unusual,\n",
    "### then, try cast/converting the type of column to the type it is suppose to be,\n",
    "### while converting/casting, if it throws `ValueError: ` then u can know, tricky missing values is present in that column"
   ]
  },
  {
   "cell_type": "markdown",
   "id": "b4e44297",
   "metadata": {},
   "source": [
    "### using `pd.to_datetime()` function to cast/convert date & time column in datetime data type\n",
    "### if following code throws error, u should know some missing value is there"
   ]
  },
  {
   "cell_type": "code",
   "execution_count": 22,
   "id": "e4ebc81a",
   "metadata": {},
   "outputs": [],
   "source": [
    "taxi_trips['tpep_pickup_datetime'] = pd.to_datetime(taxi_trips['tpep_pickup_datetime'])"
   ]
  },
  {
   "cell_type": "code",
   "execution_count": 23,
   "id": "ae1fe007",
   "metadata": {},
   "outputs": [
    {
     "data": {
      "text/plain": [
       "tpep_pickup_datetime    datetime64[ns]\n",
       "passenger_count                float64\n",
       "trip_distance                  float64\n",
       "PULocationID                     int64\n",
       "payment_type                     int64\n",
       "total_amount                   float64\n",
       "dtype: object"
      ]
     },
     "execution_count": 23,
     "metadata": {},
     "output_type": "execute_result"
    }
   ],
   "source": [
    "taxi_trips.dtypes"
   ]
  },
  {
   "cell_type": "markdown",
   "id": "2240336f",
   "metadata": {},
   "source": [
    "### `astype()`"
   ]
  },
  {
   "cell_type": "markdown",
   "id": "1eb3c777",
   "metadata": {},
   "source": [
    "### astype() function is also used to cast/convert column into any data type"
   ]
  },
  {
   "cell_type": "code",
   "execution_count": 24,
   "id": "587b5417",
   "metadata": {},
   "outputs": [],
   "source": [
    "taxi_trips['total_amount'] = taxi_trips['total_amount'].astype(float)"
   ]
  },
  {
   "cell_type": "markdown",
   "id": "2c818df4",
   "metadata": {},
   "source": [
    "## `6th way`"
   ]
  },
  {
   "cell_type": "markdown",
   "id": "c257bfb5",
   "metadata": {},
   "source": [
    "## Sorting the values of column"
   ]
  },
  {
   "cell_type": "code",
   "execution_count": 25,
   "id": "87912136",
   "metadata": {},
   "outputs": [
    {
     "data": {
      "text/plain": [
       "2557806   2001-02-02 14:55:07\n",
       "42121     2003-01-01 00:05:12\n",
       "42122     2003-01-01 00:15:01\n",
       "607528    2008-12-31 23:02:39\n",
       "6405315   2008-12-31 23:03:07\n",
       "                  ...        \n",
       "2873013   2019-07-23 01:32:57\n",
       "2880113   2019-08-13 09:02:46\n",
       "2884771   2019-09-03 17:03:08\n",
       "4157545   2088-01-24 00:15:42\n",
       "4165220   2088-01-24 00:25:39\n",
       "Name: tpep_pickup_datetime, Length: 7696617, dtype: datetime64[ns]"
      ]
     },
     "execution_count": 25,
     "metadata": {},
     "output_type": "execute_result"
    }
   ],
   "source": [
    "taxi_trips['tpep_pickup_datetime'].sort_values()"
   ]
  },
  {
   "cell_type": "code",
   "execution_count": 26,
   "id": "e7776132",
   "metadata": {},
   "outputs": [],
   "source": [
    "# POINT TO REMEMBER:\n",
    "\n",
    "# NOTE : yo mathi ko example ma 2088-01-24 chai practically possible chaina, becuase ahile just 2023 chaldai cha"
   ]
  },
  {
   "cell_type": "markdown",
   "id": "1f6160d8",
   "metadata": {},
   "source": [
    "## FIXING MISSING VALUES"
   ]
  },
  {
   "cell_type": "markdown",
   "id": "a00a9a3f",
   "metadata": {},
   "source": [
    "### using inbuilt `fillna()` function"
   ]
  },
  {
   "cell_type": "markdown",
   "id": "5224e65b",
   "metadata": {},
   "source": [
    "### 1st way: filling NaN with `frequent occuring values in that column`"
   ]
  },
  {
   "cell_type": "code",
   "execution_count": 27,
   "id": "e40a72ff",
   "metadata": {},
   "outputs": [
    {
     "data": {
      "text/plain": [
       "passenger_count\n",
       "1.0    5456515\n",
       "2.0    1113894\n",
       "5.0     323842\n",
       "3.0     314692\n",
       "6.0     200811\n",
       "4.0     140753\n",
       "0.0     117381\n",
       "8.0         29\n",
       "7.0         19\n",
       "9.0          9\n",
       "Name: count, dtype: int64"
      ]
     },
     "execution_count": 27,
     "metadata": {},
     "output_type": "execute_result"
    }
   ],
   "source": [
    "# To view frequent occuring values of any column\n",
    "\n",
    "taxi_trips['passenger_count'].value_counts()"
   ]
  },
  {
   "cell_type": "code",
   "execution_count": 28,
   "id": "816110d1",
   "metadata": {},
   "outputs": [],
   "source": [
    "# since we now know,  1 is the most frequent occuring passenger count, so,\n",
    "# filling NaN with 1\n",
    "\n",
    "taxi_trips['passenger_count'].fillna('1', inplace=True)"
   ]
  },
  {
   "cell_type": "markdown",
   "id": "37ede3db",
   "metadata": {},
   "source": [
    "### finally, checking is there still missing values in dataframe or not ?"
   ]
  },
  {
   "cell_type": "code",
   "execution_count": 29,
   "id": "bdbb91d6",
   "metadata": {},
   "outputs": [
    {
     "data": {
      "text/plain": [
       "tpep_pickup_datetime    0\n",
       "passenger_count         0\n",
       "trip_distance           0\n",
       "PULocationID            0\n",
       "payment_type            0\n",
       "total_amount            0\n",
       "dtype: int64"
      ]
     },
     "execution_count": 29,
     "metadata": {},
     "output_type": "execute_result"
    }
   ],
   "source": [
    "taxi_trips.isna().sum()"
   ]
  },
  {
   "cell_type": "code",
   "execution_count": 30,
   "id": "e28c717c",
   "metadata": {},
   "outputs": [
    {
     "data": {
      "text/plain": [
       "tpep_pickup_datetime    0\n",
       "passenger_count         0\n",
       "trip_distance           0\n",
       "PULocationID            0\n",
       "payment_type            0\n",
       "total_amount            0\n",
       "dtype: int64"
      ]
     },
     "execution_count": 30,
     "metadata": {},
     "output_type": "execute_result"
    }
   ],
   "source": [
    "taxi_trips.isnull().sum()"
   ]
  },
  {
   "cell_type": "code",
   "execution_count": null,
   "id": "1d04fdd8",
   "metadata": {},
   "outputs": [],
   "source": []
  }
 ],
 "metadata": {
  "kernelspec": {
   "display_name": "Python 3 (ipykernel)",
   "language": "python",
   "name": "python3"
  },
  "language_info": {
   "codemirror_mode": {
    "name": "ipython",
    "version": 3
   },
   "file_extension": ".py",
   "mimetype": "text/x-python",
   "name": "python",
   "nbconvert_exporter": "python",
   "pygments_lexer": "ipython3",
   "version": "3.10.9"
  }
 },
 "nbformat": 4,
 "nbformat_minor": 5
}
