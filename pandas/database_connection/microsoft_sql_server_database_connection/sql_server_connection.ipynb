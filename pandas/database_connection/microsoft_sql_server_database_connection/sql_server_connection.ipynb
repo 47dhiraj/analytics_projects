{
 "cells": [
  {
   "cell_type": "markdown",
   "id": "09cfc15a-a9ab-4c61-a894-4ee369bc730e",
   "metadata": {},
   "source": [
    "### At first, to connect Microsoft SQL Server, u need to install:\n",
    "\n",
    "### `pip install pyodbc`"
   ]
  },
  {
   "cell_type": "code",
   "execution_count": null,
   "id": "e029b659-f4b2-428a-91ed-92a9fe75517e",
   "metadata": {},
   "outputs": [],
   "source": [
    "import pandas as pd\n",
    "import pyodbc"
   ]
  },
  {
   "cell_type": "code",
   "execution_count": null,
   "id": "f90ce674-fd73-476b-adb3-24d6c545ea39",
   "metadata": {},
   "outputs": [],
   "source": [
    "# Microsoft SQL Server database connection parameters\n",
    "\n",
    "db_config = {\n",
    "    'Server': 'your_server_address',         # eg, 'LAPTOP-DC2J8KO'\n",
    "    'Database': 'your_database_name',        # eg, 'test_db'\n",
    "    'Driver': 'your_driver',                 # eg, 'ODBC Driver 17 for SQL Server'\n",
    "    # 'User': 'your_username',                 # eg,\n",
    "    # 'Password': 'your_password',             # eg,\n",
    "                     \n",
    "}\n",
    "\n",
    "\n",
    "# Create a connection to the SQL Server database\n",
    "\n",
    "connection = pyodbc.connect(\n",
    "    'DRIVER={' + db_config['Driver'] + '};'\n",
    "    'SERVER=' + db_config['Server'] + ';'\n",
    "    'DATABASE=' + db_config['Database'] + ';'\n",
    "    # 'UID=' + db_config['User'] + ';'\n",
    "    # 'PWD=' + db_config['Password'] + ';'\n",
    ")\n"
   ]
  },
  {
   "cell_type": "code",
   "execution_count": null,
   "id": "d54cbef4-6e84-4955-816b-9a68ea1394db",
   "metadata": {},
   "outputs": [],
   "source": [
    "# Query to fetch data from SQL Server table\n",
    "query = \"SELECT * FROM your_table_name\"\n",
    "\n",
    "# Use pandas to read the SQL query result into a DataFrame\n",
    "df = pd.read_sql(query, connection)\n",
    "\n",
    "# Close the database connection\n",
    "connection.close()\n"
   ]
  },
  {
   "cell_type": "code",
   "execution_count": null,
   "id": "ebfbaa9a-5bf4-4064-ba32-2ec57ced6cce",
   "metadata": {},
   "outputs": [],
   "source": [
    "# Now you can work with the DataFrame 'df' as you normally would with Pandas\n",
    "\n",
    "print(df.head())"
   ]
  }
 ],
 "metadata": {
  "kernelspec": {
   "display_name": "Python 3 (ipykernel)",
   "language": "python",
   "name": "python3"
  },
  "language_info": {
   "codemirror_mode": {
    "name": "ipython",
    "version": 3
   },
   "file_extension": ".py",
   "mimetype": "text/x-python",
   "name": "python",
   "nbconvert_exporter": "python",
   "pygments_lexer": "ipython3",
   "version": "3.10.9"
  }
 },
 "nbformat": 4,
 "nbformat_minor": 5
}
