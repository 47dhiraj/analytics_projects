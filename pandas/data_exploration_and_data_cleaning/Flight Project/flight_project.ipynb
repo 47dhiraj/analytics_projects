{
 "cells": [
  {
   "cell_type": "code",
   "execution_count": 1,
   "id": "7033b821-43a2-4d6e-b8c8-0e08fbf637fc",
   "metadata": {},
   "outputs": [],
   "source": [
    "import pandas as pd\n",
    "import numpy as np"
   ]
  },
  {
   "cell_type": "code",
   "execution_count": 2,
   "id": "85298f97-459f-40b7-9d95-fc12ef6a327e",
   "metadata": {},
   "outputs": [],
   "source": [
    "import warnings\n",
    "warnings.filterwarnings('ignore')"
   ]
  },
  {
   "cell_type": "markdown",
   "id": "513d1d0b-fd52-45ad-a3b1-5304a1b8300d",
   "metadata": {},
   "source": [
    "### Settings for `No Limit` of `maximum columns` to be shown"
   ]
  },
  {
   "cell_type": "code",
   "execution_count": 3,
   "id": "c091eedf-e608-44e8-be2a-b108288b32f9",
   "metadata": {},
   "outputs": [],
   "source": [
    "pd.set_option('display.max_columns', None)\n",
    "# pd.set_option('display.max_columns', 31)\n",
    "\n",
    "#pd.set_option('display.max_rows', None)"
   ]
  },
  {
   "cell_type": "code",
   "execution_count": 4,
   "id": "f0794e0e-cedc-43e1-afda-7b29fcc8c06b",
   "metadata": {},
   "outputs": [],
   "source": [
    "# Limit the DataFrame to the first 1417918 rows\n",
    "# df = flights.head(1417918)"
   ]
  },
  {
   "cell_type": "code",
   "execution_count": 5,
   "id": "e4876592-a94e-4063-8390-4d76eb0a0dc2",
   "metadata": {},
   "outputs": [],
   "source": [
    "flights = pd.read_csv(r\"C:\\Users\\Dhiraj\\Desktop\\flights_sampled.csv\", na_values=['-'])"
   ]
  },
  {
   "cell_type": "code",
   "execution_count": 6,
   "id": "787a4974-de51-46fd-989f-8534a4d28d6f",
   "metadata": {},
   "outputs": [
    {
     "data": {
      "text/plain": [
       "(1417918, 31)"
      ]
     },
     "execution_count": 6,
     "metadata": {},
     "output_type": "execute_result"
    }
   ],
   "source": [
    "flights.shape"
   ]
  },
  {
   "cell_type": "code",
   "execution_count": null,
   "id": "f1601c9d-a553-4fcb-a100-59de0b2133c4",
   "metadata": {},
   "outputs": [],
   "source": []
  }
 ],
 "metadata": {
  "kernelspec": {
   "display_name": "Python 3 (ipykernel)",
   "language": "python",
   "name": "python3"
  },
  "language_info": {
   "codemirror_mode": {
    "name": "ipython",
    "version": 3
   },
   "file_extension": ".py",
   "mimetype": "text/x-python",
   "name": "python",
   "nbconvert_exporter": "python",
   "pygments_lexer": "ipython3",
   "version": "3.10.9"
  }
 },
 "nbformat": 4,
 "nbformat_minor": 5
}
