{
 "cells": [
  {
   "cell_type": "code",
   "execution_count": 2,
   "id": "81179cca",
   "metadata": {},
   "outputs": [],
   "source": [
    "import pandas as pd\n",
    "import numpy as np\n",
    "\n",
    "import joblib\n",
    "\n",
    "# import feather\n",
    "# import pickle"
   ]
  },
  {
   "cell_type": "markdown",
   "id": "2a006044",
   "metadata": {},
   "source": [
    "### Create `Fake  Data/Dataset`\n",
    "\n",
    "### Following are 2 custom functions to create fake data"
   ]
  },
  {
   "cell_type": "code",
   "execution_count": 3,
   "id": "768451a0",
   "metadata": {},
   "outputs": [],
   "source": [
    "def get_dataset(size):\n",
    "    # Create Fake Dataset\n",
    "    df = pd.DataFrame()\n",
    "    df['size'] = np.random.choice(['big','medium','small'], size)\n",
    "    df['age'] = np.random.randint(1, 50, size)\n",
    "    df['team'] = np.random.choice(['red','blue','yellow','green'], size)\n",
    "    df['win'] = np.random.choice(['yes','no'], size)\n",
    "    dates = pd.date_range('2020-01-01', '2022-12-31')\n",
    "    df['date'] = np.random.choice(dates, size)\n",
    "    df['prob'] = np.random.uniform(0, 1, size)\n",
    "    return df\n",
    "\n",
    "def set_dtypes(df):\n",
    "    df['size'] = df['size'].astype('category')\n",
    "    df['team'] = df['team'].astype('category')\n",
    "    df['age'] = df['age'].astype('int16')\n",
    "    df['win'] = df['win'].map({'yes':True, 'no': False})\n",
    "    df['prob'] = df['prob'].astype('float32')\n",
    "    return df"
   ]
  },
  {
   "cell_type": "markdown",
   "id": "01c94802",
   "metadata": {},
   "source": [
    "###  Various `File Formats` to save & read dataframe"
   ]
  },
  {
   "cell_type": "markdown",
   "id": "dd778c9d",
   "metadata": {},
   "source": [
    "### For `CSV` file type"
   ]
  },
  {
   "cell_type": "code",
   "execution_count": 4,
   "id": "19a37b7d",
   "metadata": {},
   "outputs": [
    {
     "name": "stdout",
     "output_type": "stream",
     "text": [
      "Reading and writing CSV\n",
      "CPU times: total: 22 s\n",
      "Wall time: 22.6 s\n",
      "CPU times: total: 4.02 s\n",
      "Wall time: 4.19 s\n"
     ]
    }
   ],
   "source": [
    "print('Reading and writing CSV')\n",
    "\n",
    "\n",
    "df = get_dataset(5_000_000)            # yo line le get_dataset() function lai call garcha to create fake data i.e 5_000_000 chai data size ho\n",
    "\n",
    "df = set_dtypes(df)                    # setting the data types of those data\n",
    "\n",
    "%time df.to_csv('test.csv')            # to_csv() function creates a csv file\n",
    "%time df_csv = pd.read_csv('test.csv') # read_csv() to read/load a csv file\n",
    "\n",
    "# NOTE: %time function gives the cpu execution time to execute the code\n",
    "\n",
    "\n",
    "# # Drawbacks of a .csv file:\n",
    "# NOTE: It takes highest(huge) amount of time to write and read/load the data from a csv file\n",
    "# NOTE: csv ma save garyo vani, pachi csv read garda, data ko datatype haru nai lost huncha"
   ]
  },
  {
   "cell_type": "code",
   "execution_count": 5,
   "id": "731a8202",
   "metadata": {},
   "outputs": [
    {
     "data": {
      "text/html": [
       "<div>\n",
       "<style scoped>\n",
       "    .dataframe tbody tr th:only-of-type {\n",
       "        vertical-align: middle;\n",
       "    }\n",
       "\n",
       "    .dataframe tbody tr th {\n",
       "        vertical-align: top;\n",
       "    }\n",
       "\n",
       "    .dataframe thead th {\n",
       "        text-align: right;\n",
       "    }\n",
       "</style>\n",
       "<table border=\"1\" class=\"dataframe\">\n",
       "  <thead>\n",
       "    <tr style=\"text-align: right;\">\n",
       "      <th></th>\n",
       "      <th>win</th>\n",
       "      <th>date</th>\n",
       "    </tr>\n",
       "  </thead>\n",
       "  <tbody>\n",
       "    <tr>\n",
       "      <th>0</th>\n",
       "      <td>True</td>\n",
       "      <td>2022-05-18</td>\n",
       "    </tr>\n",
       "    <tr>\n",
       "      <th>1</th>\n",
       "      <td>True</td>\n",
       "      <td>2022-05-11</td>\n",
       "    </tr>\n",
       "    <tr>\n",
       "      <th>2</th>\n",
       "      <td>True</td>\n",
       "      <td>2020-05-03</td>\n",
       "    </tr>\n",
       "    <tr>\n",
       "      <th>3</th>\n",
       "      <td>True</td>\n",
       "      <td>2021-04-21</td>\n",
       "    </tr>\n",
       "    <tr>\n",
       "      <th>4</th>\n",
       "      <td>False</td>\n",
       "      <td>2022-09-26</td>\n",
       "    </tr>\n",
       "    <tr>\n",
       "      <th>...</th>\n",
       "      <td>...</td>\n",
       "      <td>...</td>\n",
       "    </tr>\n",
       "    <tr>\n",
       "      <th>4999995</th>\n",
       "      <td>True</td>\n",
       "      <td>2021-12-28</td>\n",
       "    </tr>\n",
       "    <tr>\n",
       "      <th>4999996</th>\n",
       "      <td>False</td>\n",
       "      <td>2022-06-07</td>\n",
       "    </tr>\n",
       "    <tr>\n",
       "      <th>4999997</th>\n",
       "      <td>False</td>\n",
       "      <td>2022-04-06</td>\n",
       "    </tr>\n",
       "    <tr>\n",
       "      <th>4999998</th>\n",
       "      <td>False</td>\n",
       "      <td>2021-02-14</td>\n",
       "    </tr>\n",
       "    <tr>\n",
       "      <th>4999999</th>\n",
       "      <td>True</td>\n",
       "      <td>2020-02-06</td>\n",
       "    </tr>\n",
       "  </tbody>\n",
       "</table>\n",
       "<p>5000000 rows × 2 columns</p>\n",
       "</div>"
      ],
      "text/plain": [
       "           win        date\n",
       "0         True  2022-05-18\n",
       "1         True  2022-05-11\n",
       "2         True  2020-05-03\n",
       "3         True  2021-04-21\n",
       "4        False  2022-09-26\n",
       "...        ...         ...\n",
       "4999995   True  2021-12-28\n",
       "4999996  False  2022-06-07\n",
       "4999997  False  2022-04-06\n",
       "4999998  False  2021-02-14\n",
       "4999999   True  2020-02-06\n",
       "\n",
       "[5000000 rows x 2 columns]"
      ]
     },
     "execution_count": 5,
     "metadata": {},
     "output_type": "execute_result"
    }
   ],
   "source": [
    "# NOTE: can read only specific columns directly from a csv file type\n",
    "pd.read_csv('test.csv', usecols=['date', 'win'])"
   ]
  },
  {
   "cell_type": "code",
   "execution_count": 6,
   "id": "79a985f1",
   "metadata": {},
   "outputs": [
    {
     "name": "stdout",
     "output_type": "stream",
     "text": [
      "238M -rw-r--r-- 1 Dhiraj 238M May 31 06:34 test.csv\n"
     ]
    }
   ],
   "source": [
    "## For viewing detail info of a file in ubuntu or windows:\n",
    "!ls -GFlash test.csv"
   ]
  },
  {
   "cell_type": "markdown",
   "id": "3a5e93ae",
   "metadata": {},
   "source": [
    "### For `Pickle` File type"
   ]
  },
  {
   "cell_type": "code",
   "execution_count": 7,
   "id": "3337b7b6",
   "metadata": {},
   "outputs": [
    {
     "name": "stdout",
     "output_type": "stream",
     "text": [
      "Reading and writing Pickle\n",
      "CPU times: total: 78.1 ms\n",
      "Wall time: 323 ms\n",
      "CPU times: total: 46.9 ms\n",
      "Wall time: 62.5 ms\n"
     ]
    }
   ],
   "source": [
    "print('Reading and writing Pickle')\n",
    "\n",
    "df = get_dataset(5_000_000)\n",
    "df = set_dtypes(df)\n",
    "\n",
    "%time df.to_pickle('test.pickle')                # to_pickle() function create a pickle file\n",
    "%time df_pickle = pd.read_pickle('test.pickle')  # read_pickle() function to read/load a pickle file\n",
    "\n",
    "# # Merits of pickle file:\n",
    "# NOTE: pickle file ma save garyo vani, pachi pickle file read garda, data ko datatype haru chai lost vako hudaina"
   ]
  },
  {
   "cell_type": "code",
   "execution_count": 8,
   "id": "d43415ff",
   "metadata": {},
   "outputs": [],
   "source": [
    "# # Demerits of pickle file:\n",
    "# # NOTE: cannot read only specific columns from a pickle file type\n",
    "\n",
    "# pd.read_pickle('test.pickle', columns=['date', 'win'])"
   ]
  },
  {
   "cell_type": "code",
   "execution_count": 9,
   "id": "255a8a55",
   "metadata": {},
   "outputs": [
    {
     "name": "stdout",
     "output_type": "stream",
     "text": [
      "82M -rw-r--r-- 1 Dhiraj 82M May 31 06:35 test.pickle\n"
     ]
    }
   ],
   "source": [
    "## For viewing detail info of a file in ubuntu or windows:\n",
    "!ls -GFlash test.pickle"
   ]
  },
  {
   "cell_type": "markdown",
   "id": "7f443311",
   "metadata": {},
   "source": [
    "### For `Joblib` File type"
   ]
  },
  {
   "cell_type": "code",
   "execution_count": 10,
   "id": "702212e2",
   "metadata": {},
   "outputs": [
    {
     "name": "stdout",
     "output_type": "stream",
     "text": [
      "Reading and writing Joblib file\n",
      "CPU times: total: 62.5 ms\n",
      "Wall time: 80.1 ms\n",
      "CPU times: total: 46.9 ms\n",
      "Wall time: 62.3 ms\n"
     ]
    }
   ],
   "source": [
    "print('Reading and writing Joblib file')\n",
    "\n",
    "df = get_dataset(5_000_000)\n",
    "df = set_dtypes(df)\n",
    "\n",
    "%time joblib.dump(df, 'test.joblib')\n",
    "\n",
    "%time df_joblib = joblib.load('test.joblib')"
   ]
  },
  {
   "cell_type": "code",
   "execution_count": 11,
   "id": "bb2b8570",
   "metadata": {},
   "outputs": [
    {
     "name": "stdout",
     "output_type": "stream",
     "text": [
      "82M -rw-r--r-- 1 Dhiraj 82M May 31 06:35 test.joblib\n"
     ]
    }
   ],
   "source": [
    "## For viewing detail info of a file in ubuntu or windows:\n",
    "!ls -GFlash test.joblib"
   ]
  },
  {
   "cell_type": "markdown",
   "id": "63a2bbac",
   "metadata": {},
   "source": [
    "### For `Parquet` File type"
   ]
  },
  {
   "cell_type": "markdown",
   "id": "2c64dc70",
   "metadata": {},
   "source": [
    "### To read a parquet file, first u have to install:\n",
    "\n",
    "#### `pip install pyarrow`\n",
    "#### `pip install fastparquet`"
   ]
  },
  {
   "cell_type": "code",
   "execution_count": 12,
   "id": "51564b66",
   "metadata": {},
   "outputs": [
    {
     "name": "stdout",
     "output_type": "stream",
     "text": [
      "Reading and writing Parquet\n",
      "CPU times: total: 969 ms\n",
      "Wall time: 907 ms\n",
      "CPU times: total: 812 ms\n",
      "Wall time: 320 ms\n"
     ]
    }
   ],
   "source": [
    "print('Reading and writing Parquet')\n",
    "\n",
    "df = get_dataset(5_000_000)\n",
    "df = set_dtypes(df)\n",
    "\n",
    "%time df.to_parquet('test.parquet')                # to_parquet() function to create a parquet file\n",
    "\n",
    "%time df_parquet = pd.read_parquet('test.parquet') # read_parquet() function to read/load a parquet file"
   ]
  },
  {
   "cell_type": "code",
   "execution_count": 13,
   "id": "e5a79c4c",
   "metadata": {},
   "outputs": [
    {
     "data": {
      "text/html": [
       "<div>\n",
       "<style scoped>\n",
       "    .dataframe tbody tr th:only-of-type {\n",
       "        vertical-align: middle;\n",
       "    }\n",
       "\n",
       "    .dataframe tbody tr th {\n",
       "        vertical-align: top;\n",
       "    }\n",
       "\n",
       "    .dataframe thead th {\n",
       "        text-align: right;\n",
       "    }\n",
       "</style>\n",
       "<table border=\"1\" class=\"dataframe\">\n",
       "  <thead>\n",
       "    <tr style=\"text-align: right;\">\n",
       "      <th></th>\n",
       "      <th>date</th>\n",
       "      <th>win</th>\n",
       "    </tr>\n",
       "  </thead>\n",
       "  <tbody>\n",
       "    <tr>\n",
       "      <th>0</th>\n",
       "      <td>2021-05-06</td>\n",
       "      <td>False</td>\n",
       "    </tr>\n",
       "    <tr>\n",
       "      <th>1</th>\n",
       "      <td>2022-03-19</td>\n",
       "      <td>False</td>\n",
       "    </tr>\n",
       "    <tr>\n",
       "      <th>2</th>\n",
       "      <td>2022-08-28</td>\n",
       "      <td>True</td>\n",
       "    </tr>\n",
       "    <tr>\n",
       "      <th>3</th>\n",
       "      <td>2020-07-17</td>\n",
       "      <td>False</td>\n",
       "    </tr>\n",
       "    <tr>\n",
       "      <th>4</th>\n",
       "      <td>2022-12-30</td>\n",
       "      <td>False</td>\n",
       "    </tr>\n",
       "    <tr>\n",
       "      <th>...</th>\n",
       "      <td>...</td>\n",
       "      <td>...</td>\n",
       "    </tr>\n",
       "    <tr>\n",
       "      <th>4999995</th>\n",
       "      <td>2022-04-04</td>\n",
       "      <td>True</td>\n",
       "    </tr>\n",
       "    <tr>\n",
       "      <th>4999996</th>\n",
       "      <td>2021-04-08</td>\n",
       "      <td>True</td>\n",
       "    </tr>\n",
       "    <tr>\n",
       "      <th>4999997</th>\n",
       "      <td>2020-10-14</td>\n",
       "      <td>False</td>\n",
       "    </tr>\n",
       "    <tr>\n",
       "      <th>4999998</th>\n",
       "      <td>2020-08-05</td>\n",
       "      <td>False</td>\n",
       "    </tr>\n",
       "    <tr>\n",
       "      <th>4999999</th>\n",
       "      <td>2020-12-21</td>\n",
       "      <td>True</td>\n",
       "    </tr>\n",
       "  </tbody>\n",
       "</table>\n",
       "<p>5000000 rows × 2 columns</p>\n",
       "</div>"
      ],
      "text/plain": [
       "              date    win\n",
       "0       2021-05-06  False\n",
       "1       2022-03-19  False\n",
       "2       2022-08-28   True\n",
       "3       2020-07-17  False\n",
       "4       2022-12-30  False\n",
       "...            ...    ...\n",
       "4999995 2022-04-04   True\n",
       "4999996 2021-04-08   True\n",
       "4999997 2020-10-14  False\n",
       "4999998 2020-08-05  False\n",
       "4999999 2020-12-21   True\n",
       "\n",
       "[5000000 rows x 2 columns]"
      ]
     },
     "execution_count": 13,
     "metadata": {},
     "output_type": "execute_result"
    }
   ],
   "source": [
    "# Merits of parquet file type:\n",
    "\n",
    "# NOTE: Reading/Loading .parquet file is so fast\n",
    "\n",
    "# Can read in specific columns using parquet file type\n",
    "\n",
    "pd.read_parquet('test.parquet', columns=['date', 'win'])"
   ]
  },
  {
   "cell_type": "code",
   "execution_count": 14,
   "id": "5ac6dd00",
   "metadata": {},
   "outputs": [
    {
     "name": "stdout",
     "output_type": "stream",
     "text": [
      "33M -rw-r--r-- 1 Dhiraj 33M May 31 06:35 test.parquet\n"
     ]
    }
   ],
   "source": [
    "## For viewing detail info of a file in ubuntu or windows:\n",
    "!ls -GFlash test.parquet"
   ]
  },
  {
   "cell_type": "markdown",
   "id": "330a2678",
   "metadata": {},
   "source": [
    "### For `Feather` File type"
   ]
  },
  {
   "cell_type": "code",
   "execution_count": 15,
   "id": "934dfe25",
   "metadata": {},
   "outputs": [
    {
     "name": "stdout",
     "output_type": "stream",
     "text": [
      "Reading and writing Feather\n",
      "CPU times: total: 375 ms\n",
      "Wall time: 219 ms\n",
      "CPU times: total: 359 ms\n",
      "Wall time: 156 ms\n"
     ]
    }
   ],
   "source": [
    "print('Reading and writing Feather')\n",
    "\n",
    "df = get_dataset(5_000_000)\n",
    "df = set_dtypes(df)\n",
    "\n",
    "%time df.to_feather('test.feather')\n",
    "\n",
    "%time df_feather = pd.read_feather('test.feather')"
   ]
  },
  {
   "cell_type": "code",
   "execution_count": 16,
   "id": "fe7b898d",
   "metadata": {},
   "outputs": [],
   "source": [
    "# Merits of a .feather file type:\n",
    "\n",
    "# NOTE: Reading/Loading .feather file is superfast(i.e faster than .parquet file type)"
   ]
  },
  {
   "cell_type": "code",
   "execution_count": 17,
   "id": "532769ce",
   "metadata": {},
   "outputs": [
    {
     "name": "stdout",
     "output_type": "stream",
     "text": [
      "49M -rw-r--r-- 1 Dhiraj 49M May 31 06:35 test.feather\n"
     ]
    }
   ],
   "source": [
    "## For viewing detail info of a file in ubuntu or windows:\n",
    "!ls -GFlash test.feather"
   ]
  },
  {
   "cell_type": "code",
   "execution_count": null,
   "id": "9821d521",
   "metadata": {},
   "outputs": [],
   "source": []
  }
 ],
 "metadata": {
  "kernelspec": {
   "display_name": "Python 3 (ipykernel)",
   "language": "python",
   "name": "python3"
  },
  "language_info": {
   "codemirror_mode": {
    "name": "ipython",
    "version": 3
   },
   "file_extension": ".py",
   "mimetype": "text/x-python",
   "name": "python",
   "nbconvert_exporter": "python",
   "pygments_lexer": "ipython3",
   "version": "3.10.9"
  }
 },
 "nbformat": 4,
 "nbformat_minor": 5
}
